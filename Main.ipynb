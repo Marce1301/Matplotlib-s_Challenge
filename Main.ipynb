{
 "cells": [
  {
   "cell_type": "code",
   "execution_count": 1,
   "id": "c2fa13c0",
   "metadata": {},
   "outputs": [],
   "source": [
    "# Pymaceuticals Inc.\n",
    "---\n",
    "\n",
    "### Analysis\n",
    "\n",
    "- Add your analysis here."
    "The total number of mice is 249, with one duplicate ID (g989) .By removing duplicates the total number of mice is 248. The bar graph showed the Drug Regimen Capomulin has the maximum mice number (230), and Zoniferol has the smaller mice number (182). The total count of mice by gender also showed that 124 female mice and 125 male mice. The correlation between mouse weight, and average tumor volume is 0.84 so we can say it is a strong positive correlation, when the mouse weight increases the average tumor volume also increases. The regression analysis helped to understand how much the average tumor volume (dependent variable) will change when weight of mice change(independent variables)."
   ]
  },
{
   "cell_type": "code",
   "execution_count": 104,
   "id": "e6473cf6",
   "metadata": {},
   "outputs": [],
   "source": [
    "import pandas as pd\n",
    "import matplotlib.pyplot as plt\n",
    "import scipy.stats as stats\n",
    "\n",
    "# Study data files\n",
    "mouse_metadata_path = \"data/Mouse_metadata.csv\"\n",
    "study_results_path = \"data/Study_results.csv\"\n",
    "\n",
    "# Read the mouse data and the study results\n",
    "mouse_metadata = pd.read_csv(mouse_metadata_path)\n",
    "study_results = pd.read_csv(study_results_path)\n"
   ]
  },
  {
   "cell_type": "code",
   "execution_count": 105,
   "id": "92cbbe94",
   "metadata": {},
   "outputs": [
    {
     "data": {
      "text/html": [
       "<div>\n",
       "<style scoped>\n",
       "    .dataframe tbody tr th:only-of-type {\n",
       "        vertical-align: middle;\n",
       "    }\n",
       "\n",
       "    .dataframe tbody tr th {\n",
       "        vertical-align: top;\n",
       "    }\n",
       "\n",
       "    .dataframe thead th {\n",
       "        text-align: right;\n",
       "    }\n",
       "</style>\n",
       "<table border=\"1\" class=\"dataframe\">\n",
       "  <thead>\n",
       "    <tr style=\"text-align: right;\">\n",
       "      <th></th>\n",
       "      <th>Mouse ID</th>\n",
       "      <th>Timepoint</th>\n",
       "      <th>Tumor Volume (mm3)</th>\n",
       "      <th>Metastatic Sites</th>\n",
       "      <th>Drug Regimen</th>\n",
       "      <th>Sex</th>\n",
       "      <th>Age_months</th>\n",
       "      <th>Weight (g)</th>\n",
       "    </tr>\n",
       "  </thead>\n",
       "  <tbody>\n",
       "    <tr>\n",
       "      <th>0</th>\n",
       "      <td>b128</td>\n",
       "      <td>0</td>\n",
       "      <td>45.0</td>\n",
       "      <td>0</td>\n",
       "      <td>Capomulin</td>\n",
       "      <td>Female</td>\n",
       "      <td>9</td>\n",
       "      <td>22</td>\n",
       "    </tr>\n",
       "    <tr>\n",
       "      <th>1</th>\n",
       "      <td>f932</td>\n",
       "      <td>0</td>\n",
       "      <td>45.0</td>\n",
       "      <td>0</td>\n",
       "      <td>Ketapril</td>\n",
       "      <td>Male</td>\n",
       "      <td>15</td>\n",
       "      <td>29</td>\n",
       "    </tr>\n",
       "    <tr>\n",
       "      <th>2</th>\n",
       "      <td>g107</td>\n",
       "      <td>0</td>\n",
       "      <td>45.0</td>\n",
       "      <td>0</td>\n",
       "      <td>Ketapril</td>\n",
       "      <td>Female</td>\n",
       "      <td>2</td>\n",
       "      <td>29</td>\n",
       "    </tr>\n",
       "    <tr>\n",
       "      <th>3</th>\n",
       "      <td>a457</td>\n",
       "      <td>0</td>\n",
       "      <td>45.0</td>\n",
       "      <td>0</td>\n",
       "      <td>Ketapril</td>\n",
       "      <td>Female</td>\n",
       "      <td>11</td>\n",
       "      <td>30</td>\n",
       "    </tr>\n",
       "    <tr>\n",
       "      <th>4</th>\n",
       "      <td>c819</td>\n",
       "      <td>0</td>\n",
       "      <td>45.0</td>\n",
       "      <td>0</td>\n",
       "      <td>Ketapril</td>\n",
       "      <td>Male</td>\n",
       "      <td>21</td>\n",
       "      <td>25</td>\n",
       "    </tr>\n",
       "  </tbody>\n",
       "</table>\n",
       "</div>"
      ],
      "text/plain": [
       "  Mouse ID  Timepoint  Tumor Volume (mm3)  Metastatic Sites Drug Regimen  \\\n",
       "0     b128          0                45.0                 0    Capomulin   \n",
       "1     f932          0                45.0                 0     Ketapril   \n",
       "2     g107          0                45.0                 0     Ketapril   \n",
       "3     a457          0                45.0                 0     Ketapril   \n",
       "4     c819          0                45.0                 0     Ketapril   \n",
       "\n",
       "      Sex  Age_months  Weight (g)  \n",
       "0  Female           9          22  \n",
       "1    Male          15          29  \n",
       "2  Female           2          29  \n",
       "3  Female          11          30  \n",
       "4    Male          21          25  "
      ]
     },
     "execution_count": 105,
     "metadata": {},
     "output_type": "execute_result"
    }
   ],
   "source": [
    "# Combine the data into a single dataset\n",
    "# Display the data table for preview\n",
    "\n",
    "mouse_data_complete = pd.merge(study_results, mouse_metadata , how=\"left\", on=[\"Mouse ID\", \"Mouse ID\"])\n",
    "mouse_data_complete.head()\n",
    "\n",
    "\n"
   ]
  },
  {
   "cell_type": "code",
   "execution_count": 106,
   "id": "c1cf3c0c",
   "metadata": {},
   "outputs": [
    {
     "data": {
      "text/plain": [
       "249"
      ]
     },
     "execution_count": 106,
     "metadata": {},
     "output_type": "execute_result"
    }
   ],
   "source": [
    "# Checking the number of mice.\n",
    "mice_count= mouse_data_complete[\"Mouse ID\"].nunique()\n",
    "mice_count"
   ]
  },
  {
   "cell_type": "code",
   "execution_count": 107,
   "id": "f4af992b",
   "metadata": {},
   "outputs": [
    {
     "data": {
      "text/plain": [
       "array(['g989'], dtype=object)"
      ]
     },
     "execution_count": 107,
     "metadata": {},
     "output_type": "execute_result"
    }
   ],
   "source": [
    "# Getting the duplicate mice by ID number that shows up for Mouse ID and Timepoint. \n",
    "\n",
    "dup_mice_ID = mouse_data_complete.loc[mouse_data_complete.duplicated(subset=['Mouse ID', 'Timepoint']),'Mouse ID'].unique()\n",
    "dup_mice_ID"
   ]
  },
  {
   "cell_type": "code",
   "execution_count": 108,
   "id": "c004f465",
   "metadata": {},
   "outputs": [
    {
     "data": {
      "text/html": [
       "<div>\n",
       "<style scoped>\n",
       "    .dataframe tbody tr th:only-of-type {\n",
       "        vertical-align: middle;\n",
       "    }\n",
       "\n",
       "    .dataframe tbody tr th {\n",
       "        vertical-align: top;\n",
       "    }\n",
       "\n",
       "    .dataframe thead th {\n",
       "        text-align: right;\n",
       "    }\n",
       "</style>\n",
       "<table border=\"1\" class=\"dataframe\">\n",
       "  <thead>\n",
       "    <tr style=\"text-align: right;\">\n",
       "      <th></th>\n",
       "      <th>Mouse ID</th>\n",
       "      <th>Timepoint</th>\n",
       "      <th>Tumor Volume (mm3)</th>\n",
       "      <th>Metastatic Sites</th>\n",
       "      <th>Drug Regimen</th>\n",
       "      <th>Sex</th>\n",
       "      <th>Age_months</th>\n",
       "      <th>Weight (g)</th>\n",
       "    </tr>\n",
       "  </thead>\n",
       "  <tbody>\n",
       "    <tr>\n",
       "      <th>107</th>\n",
       "      <td>g989</td>\n",
       "      <td>0</td>\n",
       "      <td>45.000000</td>\n",
       "      <td>0</td>\n",
       "      <td>Propriva</td>\n",
       "      <td>Female</td>\n",
       "      <td>21</td>\n",
       "      <td>26</td>\n",
       "    </tr>\n",
       "    <tr>\n",
       "      <th>137</th>\n",
       "      <td>g989</td>\n",
       "      <td>0</td>\n",
       "      <td>45.000000</td>\n",
       "      <td>0</td>\n",
       "      <td>Propriva</td>\n",
       "      <td>Female</td>\n",
       "      <td>21</td>\n",
       "      <td>26</td>\n",
       "    </tr>\n",
       "    <tr>\n",
       "      <th>329</th>\n",
       "      <td>g989</td>\n",
       "      <td>5</td>\n",
       "      <td>48.786801</td>\n",
       "      <td>0</td>\n",
       "      <td>Propriva</td>\n",
       "      <td>Female</td>\n",
       "      <td>21</td>\n",
       "      <td>26</td>\n",
       "    </tr>\n",
       "    <tr>\n",
       "      <th>360</th>\n",
       "      <td>g989</td>\n",
       "      <td>5</td>\n",
       "      <td>47.570392</td>\n",
       "      <td>0</td>\n",
       "      <td>Propriva</td>\n",
       "      <td>Female</td>\n",
       "      <td>21</td>\n",
       "      <td>26</td>\n",
       "    </tr>\n",
       "    <tr>\n",
       "      <th>620</th>\n",
       "      <td>g989</td>\n",
       "      <td>10</td>\n",
       "      <td>51.745156</td>\n",
       "      <td>0</td>\n",
       "      <td>Propriva</td>\n",
       "      <td>Female</td>\n",
       "      <td>21</td>\n",
       "      <td>26</td>\n",
       "    </tr>\n",
       "    <tr>\n",
       "      <th>681</th>\n",
       "      <td>g989</td>\n",
       "      <td>10</td>\n",
       "      <td>49.880528</td>\n",
       "      <td>0</td>\n",
       "      <td>Propriva</td>\n",
       "      <td>Female</td>\n",
       "      <td>21</td>\n",
       "      <td>26</td>\n",
       "    </tr>\n",
       "    <tr>\n",
       "      <th>815</th>\n",
       "      <td>g989</td>\n",
       "      <td>15</td>\n",
       "      <td>51.325852</td>\n",
       "      <td>1</td>\n",
       "      <td>Propriva</td>\n",
       "      <td>Female</td>\n",
       "      <td>21</td>\n",
       "      <td>26</td>\n",
       "    </tr>\n",
       "    <tr>\n",
       "      <th>869</th>\n",
       "      <td>g989</td>\n",
       "      <td>15</td>\n",
       "      <td>53.442020</td>\n",
       "      <td>0</td>\n",
       "      <td>Propriva</td>\n",
       "      <td>Female</td>\n",
       "      <td>21</td>\n",
       "      <td>26</td>\n",
       "    </tr>\n",
       "    <tr>\n",
       "      <th>950</th>\n",
       "      <td>g989</td>\n",
       "      <td>20</td>\n",
       "      <td>55.326122</td>\n",
       "      <td>1</td>\n",
       "      <td>Propriva</td>\n",
       "      <td>Female</td>\n",
       "      <td>21</td>\n",
       "      <td>26</td>\n",
       "    </tr>\n",
       "    <tr>\n",
       "      <th>1111</th>\n",
       "      <td>g989</td>\n",
       "      <td>20</td>\n",
       "      <td>54.657650</td>\n",
       "      <td>1</td>\n",
       "      <td>Propriva</td>\n",
       "      <td>Female</td>\n",
       "      <td>21</td>\n",
       "      <td>26</td>\n",
       "    </tr>\n",
       "    <tr>\n",
       "      <th>1195</th>\n",
       "      <td>g989</td>\n",
       "      <td>25</td>\n",
       "      <td>56.045564</td>\n",
       "      <td>1</td>\n",
       "      <td>Propriva</td>\n",
       "      <td>Female</td>\n",
       "      <td>21</td>\n",
       "      <td>26</td>\n",
       "    </tr>\n",
       "    <tr>\n",
       "      <th>1380</th>\n",
       "      <td>g989</td>\n",
       "      <td>30</td>\n",
       "      <td>59.082294</td>\n",
       "      <td>1</td>\n",
       "      <td>Propriva</td>\n",
       "      <td>Female</td>\n",
       "      <td>21</td>\n",
       "      <td>26</td>\n",
       "    </tr>\n",
       "    <tr>\n",
       "      <th>1592</th>\n",
       "      <td>g989</td>\n",
       "      <td>35</td>\n",
       "      <td>62.570880</td>\n",
       "      <td>2</td>\n",
       "      <td>Propriva</td>\n",
       "      <td>Female</td>\n",
       "      <td>21</td>\n",
       "      <td>26</td>\n",
       "    </tr>\n",
       "  </tbody>\n",
       "</table>\n",
       "</div>"
      ],
      "text/plain": [
       "     Mouse ID  Timepoint  Tumor Volume (mm3)  Metastatic Sites Drug Regimen  \\\n",
       "107      g989          0           45.000000                 0     Propriva   \n",
       "137      g989          0           45.000000                 0     Propriva   \n",
       "329      g989          5           48.786801                 0     Propriva   \n",
       "360      g989          5           47.570392                 0     Propriva   \n",
       "620      g989         10           51.745156                 0     Propriva   \n",
       "681      g989         10           49.880528                 0     Propriva   \n",
       "815      g989         15           51.325852                 1     Propriva   \n",
       "869      g989         15           53.442020                 0     Propriva   \n",
       "950      g989         20           55.326122                 1     Propriva   \n",
       "1111     g989         20           54.657650                 1     Propriva   \n",
       "1195     g989         25           56.045564                 1     Propriva   \n",
       "1380     g989         30           59.082294                 1     Propriva   \n",
       "1592     g989         35           62.570880                 2     Propriva   \n",
       "\n",
       "         Sex  Age_months  Weight (g)  \n",
       "107   Female          21          26  \n",
       "137   Female          21          26  \n",
       "329   Female          21          26  \n",
       "360   Female          21          26  \n",
       "620   Female          21          26  \n",
       "681   Female          21          26  \n",
       "815   Female          21          26  \n",
       "869   Female          21          26  \n",
       "950   Female          21          26  \n",
       "1111  Female          21          26  \n",
       "1195  Female          21          26  \n",
       "1380  Female          21          26  \n",
       "1592  Female          21          26  "
      ]
     },
     "execution_count": 108,
     "metadata": {},
     "output_type": "execute_result"
    }
   ],
   "source": [
    "# Optional: Get all the data for the duplicate mouse ID. \n",
    "\n",
    "dup_mice_df = mouse_data_complete.loc[mouse_data_complete[\"Mouse ID\"] == \"g989\", :]\n",
    "dup_mice_df"
   ]
  },
  {
   "cell_type": "code",
   "execution_count": 109,
   "id": "1e04d66a",
   "metadata": {},
   "outputs": [
    {
     "data": {
      "text/html": [
       "<div>\n",
       "<style scoped>\n",
       "    .dataframe tbody tr th:only-of-type {\n",
       "        vertical-align: middle;\n",
       "    }\n",
       "\n",
       "    .dataframe tbody tr th {\n",
       "        vertical-align: top;\n",
       "    }\n",
       "\n",
       "    .dataframe thead th {\n",
       "        text-align: right;\n",
       "    }\n",
       "</style>\n",
       "<table border=\"1\" class=\"dataframe\">\n",
       "  <thead>\n",
       "    <tr style=\"text-align: right;\">\n",
       "      <th></th>\n",
       "      <th>Mouse ID</th>\n",
       "      <th>Timepoint</th>\n",
       "      <th>Tumor Volume (mm3)</th>\n",
       "      <th>Metastatic Sites</th>\n",
       "      <th>Drug Regimen</th>\n",
       "      <th>Sex</th>\n",
       "      <th>Age_months</th>\n",
       "      <th>Weight (g)</th>\n",
       "    </tr>\n",
       "  </thead>\n",
       "  <tbody>\n",
       "    <tr>\n",
       "      <th>0</th>\n",
       "      <td>b128</td>\n",
       "      <td>0</td>\n",
       "      <td>45.0</td>\n",
       "      <td>0</td>\n",
       "      <td>Capomulin</td>\n",
       "      <td>Female</td>\n",
       "      <td>9</td>\n",
       "      <td>22</td>\n",
       "    </tr>\n",
       "    <tr>\n",
       "      <th>1</th>\n",
       "      <td>f932</td>\n",
       "      <td>0</td>\n",
       "      <td>45.0</td>\n",
       "      <td>0</td>\n",
       "      <td>Ketapril</td>\n",
       "      <td>Male</td>\n",
       "      <td>15</td>\n",
       "      <td>29</td>\n",
       "    </tr>\n",
       "    <tr>\n",
       "      <th>2</th>\n",
       "      <td>g107</td>\n",
       "      <td>0</td>\n",
       "      <td>45.0</td>\n",
       "      <td>0</td>\n",
       "      <td>Ketapril</td>\n",
       "      <td>Female</td>\n",
       "      <td>2</td>\n",
       "      <td>29</td>\n",
       "    </tr>\n",
       "    <tr>\n",
       "      <th>3</th>\n",
       "      <td>a457</td>\n",
       "      <td>0</td>\n",
       "      <td>45.0</td>\n",
       "      <td>0</td>\n",
       "      <td>Ketapril</td>\n",
       "      <td>Female</td>\n",
       "      <td>11</td>\n",
       "      <td>30</td>\n",
       "    </tr>\n",
       "    <tr>\n",
       "      <th>4</th>\n",
       "      <td>c819</td>\n",
       "      <td>0</td>\n",
       "      <td>45.0</td>\n",
       "      <td>0</td>\n",
       "      <td>Ketapril</td>\n",
       "      <td>Male</td>\n",
       "      <td>21</td>\n",
       "      <td>25</td>\n",
       "    </tr>\n",
       "  </tbody>\n",
       "</table>\n",
       "</div>"
      ],
      "text/plain": [
       "  Mouse ID  Timepoint  Tumor Volume (mm3)  Metastatic Sites Drug Regimen  \\\n",
       "0     b128          0                45.0                 0    Capomulin   \n",
       "1     f932          0                45.0                 0     Ketapril   \n",
       "2     g107          0                45.0                 0     Ketapril   \n",
       "3     a457          0                45.0                 0     Ketapril   \n",
       "4     c819          0                45.0                 0     Ketapril   \n",
       "\n",
       "      Sex  Age_months  Weight (g)  \n",
       "0  Female           9          22  \n",
       "1    Male          15          29  \n",
       "2  Female           2          29  \n",
       "3  Female          11          30  \n",
       "4    Male          21          25  "
      ]
     },
     "execution_count": 109,
     "metadata": {},
     "output_type": "execute_result"
    }
   ],
   "source": [
    "# Create a clean DataFrame by dropping the duplicate mouse by its ID.\n",
    "clean_df = mouse_data_complete[mouse_data_complete[\"Mouse ID\"].isin(dup_mice_ID)==False]\n",
    "clean_df.head()\n",
    "\n"
   ]
  },
  {
   "cell_type": "code",
   "execution_count": 110,
   "id": "12acf41c",
   "metadata": {},
   "outputs": [
    {
     "data": {
      "text/plain": [
       "248"
      ]
     },
     "execution_count": 110,
     "metadata": {},
     "output_type": "execute_result"
    }
   ],
   "source": [
    "# Checking the number of mice in the clean DataFrame.\n",
    "\n",
    "mice_clean_count= clean_df[\"Mouse ID\"].nunique()\n",
    "mice_clean_count\n"
   ]
  },
  {
   "cell_type": "code",
   "execution_count": 111,
   "id": "1fceab62",
   "metadata": {},
   "outputs": [],
   "source": [
    "## Summary Statistics"
   ]
  },
  {
   "cell_type": "code",
   "execution_count": 112,
   "id": "821438b6",
   "metadata": {},
   "outputs": [
    {
     "data": {
      "text/html": [
       "<div>\n",
       "<style scoped>\n",
       "    .dataframe tbody tr th:only-of-type {\n",
       "        vertical-align: middle;\n",
       "    }\n",
       "\n",
       "    .dataframe tbody tr th {\n",
       "        vertical-align: top;\n",
       "    }\n",
       "\n",
       "    .dataframe thead th {\n",
       "        text-align: right;\n",
       "    }\n",
       "</style>\n",
       "<table border=\"1\" class=\"dataframe\">\n",
       "  <thead>\n",
       "    <tr style=\"text-align: right;\">\n",
       "      <th></th>\n",
       "      <th>Mean Tumor Volume</th>\n",
       "      <th>Median Tumor Volume</th>\n",
       "      <th>Tumor Volume Variance</th>\n",
       "      <th>Tumor Volume Stnd. Dev</th>\n",
       "      <th>Tumor Volume Stnd. Err.</th>\n",
       "    </tr>\n",
       "    <tr>\n",
       "      <th>Drug Regimen</th>\n",
       "      <th></th>\n",
       "      <th></th>\n",
       "      <th></th>\n",
       "      <th></th>\n",
       "      <th></th>\n",
       "    </tr>\n",
       "  </thead>\n",
       "  <tbody>\n",
       "    <tr>\n",
       "      <th>Capomulin</th>\n",
       "      <td>40.675741</td>\n",
       "      <td>41.557809</td>\n",
       "      <td>24.947764</td>\n",
       "      <td>4.994774</td>\n",
       "      <td>0.329346</td>\n",
       "    </tr>\n",
       "    <tr>\n",
       "      <th>Ceftamin</th>\n",
       "      <td>52.591172</td>\n",
       "      <td>51.776157</td>\n",
       "      <td>39.290177</td>\n",
       "      <td>6.268188</td>\n",
       "      <td>0.469821</td>\n",
       "    </tr>\n",
       "    <tr>\n",
       "      <th>Infubinol</th>\n",
       "      <td>52.884795</td>\n",
       "      <td>51.820584</td>\n",
       "      <td>43.128684</td>\n",
       "      <td>6.567243</td>\n",
       "      <td>0.492236</td>\n",
       "    </tr>\n",
       "    <tr>\n",
       "      <th>Ketapril</th>\n",
       "      <td>55.235638</td>\n",
       "      <td>53.698743</td>\n",
       "      <td>68.553577</td>\n",
       "      <td>8.279709</td>\n",
       "      <td>0.603860</td>\n",
       "    </tr>\n",
       "    <tr>\n",
       "      <th>Naftisol</th>\n",
       "      <td>54.331565</td>\n",
       "      <td>52.509285</td>\n",
       "      <td>66.173479</td>\n",
       "      <td>8.134708</td>\n",
       "      <td>0.596466</td>\n",
       "    </tr>\n",
       "    <tr>\n",
       "      <th>Placebo</th>\n",
       "      <td>54.033581</td>\n",
       "      <td>52.288934</td>\n",
       "      <td>61.168083</td>\n",
       "      <td>7.821003</td>\n",
       "      <td>0.581331</td>\n",
       "    </tr>\n",
       "    <tr>\n",
       "      <th>Propriva</th>\n",
       "      <td>52.320930</td>\n",
       "      <td>50.446266</td>\n",
       "      <td>43.852013</td>\n",
       "      <td>6.622085</td>\n",
       "      <td>0.544332</td>\n",
       "    </tr>\n",
       "    <tr>\n",
       "      <th>Ramicane</th>\n",
       "      <td>40.216745</td>\n",
       "      <td>40.673236</td>\n",
       "      <td>23.486704</td>\n",
       "      <td>4.846308</td>\n",
       "      <td>0.320955</td>\n",
       "    </tr>\n",
       "    <tr>\n",
       "      <th>Stelasyn</th>\n",
       "      <td>54.233149</td>\n",
       "      <td>52.431737</td>\n",
       "      <td>59.450562</td>\n",
       "      <td>7.710419</td>\n",
       "      <td>0.573111</td>\n",
       "    </tr>\n",
       "    <tr>\n",
       "      <th>Zoniferol</th>\n",
       "      <td>53.236507</td>\n",
       "      <td>51.818479</td>\n",
       "      <td>48.533355</td>\n",
       "      <td>6.966589</td>\n",
       "      <td>0.516398</td>\n",
       "    </tr>\n",
       "  </tbody>\n",
       "</table>\n",
       "</div>"
      ],
      "text/plain": [
       "              Mean Tumor Volume  Median Tumor Volume  Tumor Volume Variance  \\\n",
       "Drug Regimen                                                                  \n",
       "Capomulin             40.675741            41.557809              24.947764   \n",
       "Ceftamin              52.591172            51.776157              39.290177   \n",
       "Infubinol             52.884795            51.820584              43.128684   \n",
       "Ketapril              55.235638            53.698743              68.553577   \n",
       "Naftisol              54.331565            52.509285              66.173479   \n",
       "Placebo               54.033581            52.288934              61.168083   \n",
       "Propriva              52.320930            50.446266              43.852013   \n",
       "Ramicane              40.216745            40.673236              23.486704   \n",
       "Stelasyn              54.233149            52.431737              59.450562   \n",
       "Zoniferol             53.236507            51.818479              48.533355   \n",
       "\n",
       "              Tumor Volume Stnd. Dev  Tumor Volume Stnd. Err.  \n",
       "Drug Regimen                                                   \n",
       "Capomulin                   4.994774                 0.329346  \n",
       "Ceftamin                    6.268188                 0.469821  \n",
       "Infubinol                   6.567243                 0.492236  \n",
       "Ketapril                    8.279709                 0.603860  \n",
       "Naftisol                    8.134708                 0.596466  \n",
       "Placebo                     7.821003                 0.581331  \n",
       "Propriva                    6.622085                 0.544332  \n",
       "Ramicane                    4.846308                 0.320955  \n",
       "Stelasyn                    7.710419                 0.573111  \n",
       "Zoniferol                   6.966589                 0.516398  "
      ]
     },
     "execution_count": 112,
     "metadata": {},
     "output_type": "execute_result"
    }
   ],
   "source": [
    "# Generate a summary statistics table of mean, median, variance, standard deviation, and SEM of the tumor volume for each regimen\n",
    "\n",
    "# Use groupby and summary statistical methods to calculate the following properties of each drug regimen: \n",
    "# mean, median, variance, standard deviation, and SEM of the tumor volume. \n",
    "mean = clean_df [\"Tumor Volume (mm3)\"].groupby(clean_df[\"Drug Regimen\"]).mean()\n",
    "median = clean_df [\"Tumor Volume (mm3)\"].groupby(clean_df[\"Drug Regimen\"]).median()\n",
    "var = clean_df [\"Tumor Volume (mm3)\"].groupby(clean_df[\"Drug Regimen\"]).var()\n",
    "std = clean_df [\"Tumor Volume (mm3)\"].groupby(clean_df[\"Drug Regimen\"]).std()\n",
    "sem = clean_df [\"Tumor Volume (mm3)\"].groupby(clean_df[\"Drug Regimen\"]).sem()\n",
    "\n",
    "# Assemble the resulting series into a single summary DataFrame.\n",
    "\n",
    "Summary_df = pd.DataFrame ({\"Mean Tumor Volume\":mean,\n",
    "                            \"Median Tumor Volume\": median,\n",
    "                            \"Tumor Volume Variance\": var,\n",
    "                            \"Tumor Volume Stnd. Dev\": std,\n",
    "                            \"Tumor Volume Stnd. Err.\": sem})\n",
    "Summary_df\n"
   ]
  },
  {
   "cell_type": "code",
   "execution_count": 113,
   "id": "dabdc493",
   "metadata": {},
   "outputs": [
    {
     "data": {
      "text/html": [
       "<div>\n",
       "<style scoped>\n",
       "    .dataframe tbody tr th:only-of-type {\n",
       "        vertical-align: middle;\n",
       "    }\n",
       "\n",
       "    .dataframe tbody tr th {\n",
       "        vertical-align: top;\n",
       "    }\n",
       "\n",
       "    .dataframe thead tr th {\n",
       "        text-align: left;\n",
       "    }\n",
       "\n",
       "    .dataframe thead tr:last-of-type th {\n",
       "        text-align: right;\n",
       "    }\n",
       "</style>\n",
       "<table border=\"1\" class=\"dataframe\">\n",
       "  <thead>\n",
       "    <tr>\n",
       "      <th></th>\n",
       "      <th colspan=\"5\" halign=\"left\">Tumor Volume (mm3)</th>\n",
       "    </tr>\n",
       "    <tr>\n",
       "      <th></th>\n",
       "      <th>mean</th>\n",
       "      <th>median</th>\n",
       "      <th>var</th>\n",
       "      <th>std</th>\n",
       "      <th>sem</th>\n",
       "    </tr>\n",
       "    <tr>\n",
       "      <th>Drug Regimen</th>\n",
       "      <th></th>\n",
       "      <th></th>\n",
       "      <th></th>\n",
       "      <th></th>\n",
       "      <th></th>\n",
       "    </tr>\n",
       "  </thead>\n",
       "  <tbody>\n",
       "    <tr>\n",
       "      <th>Capomulin</th>\n",
       "      <td>40.675741</td>\n",
       "      <td>41.557809</td>\n",
       "      <td>24.947764</td>\n",
       "      <td>4.994774</td>\n",
       "      <td>0.329346</td>\n",
       "    </tr>\n",
       "    <tr>\n",
       "      <th>Ceftamin</th>\n",
       "      <td>52.591172</td>\n",
       "      <td>51.776157</td>\n",
       "      <td>39.290177</td>\n",
       "      <td>6.268188</td>\n",
       "      <td>0.469821</td>\n",
       "    </tr>\n",
       "    <tr>\n",
       "      <th>Infubinol</th>\n",
       "      <td>52.884795</td>\n",
       "      <td>51.820584</td>\n",
       "      <td>43.128684</td>\n",
       "      <td>6.567243</td>\n",
       "      <td>0.492236</td>\n",
       "    </tr>\n",
       "    <tr>\n",
       "      <th>Ketapril</th>\n",
       "      <td>55.235638</td>\n",
       "      <td>53.698743</td>\n",
       "      <td>68.553577</td>\n",
       "      <td>8.279709</td>\n",
       "      <td>0.603860</td>\n",
       "    </tr>\n",
       "    <tr>\n",
       "      <th>Naftisol</th>\n",
       "      <td>54.331565</td>\n",
       "      <td>52.509285</td>\n",
       "      <td>66.173479</td>\n",
       "      <td>8.134708</td>\n",
       "      <td>0.596466</td>\n",
       "    </tr>\n",
       "    <tr>\n",
       "      <th>Placebo</th>\n",
       "      <td>54.033581</td>\n",
       "      <td>52.288934</td>\n",
       "      <td>61.168083</td>\n",
       "      <td>7.821003</td>\n",
       "      <td>0.581331</td>\n",
       "    </tr>\n",
       "    <tr>\n",
       "      <th>Propriva</th>\n",
       "      <td>52.320930</td>\n",
       "      <td>50.446266</td>\n",
       "      <td>43.852013</td>\n",
       "      <td>6.622085</td>\n",
       "      <td>0.544332</td>\n",
       "    </tr>\n",
       "    <tr>\n",
       "      <th>Ramicane</th>\n",
       "      <td>40.216745</td>\n",
       "      <td>40.673236</td>\n",
       "      <td>23.486704</td>\n",
       "      <td>4.846308</td>\n",
       "      <td>0.320955</td>\n",
       "    </tr>\n",
       "    <tr>\n",
       "      <th>Stelasyn</th>\n",
       "      <td>54.233149</td>\n",
       "      <td>52.431737</td>\n",
       "      <td>59.450562</td>\n",
       "      <td>7.710419</td>\n",
       "      <td>0.573111</td>\n",
       "    </tr>\n",
       "    <tr>\n",
       "      <th>Zoniferol</th>\n",
       "      <td>53.236507</td>\n",
       "      <td>51.818479</td>\n",
       "      <td>48.533355</td>\n",
       "      <td>6.966589</td>\n",
       "      <td>0.516398</td>\n",
       "    </tr>\n",
       "  </tbody>\n",
       "</table>\n",
       "</div>"
      ],
      "text/plain": [
       "             Tumor Volume (mm3)                                          \n",
       "                           mean     median        var       std       sem\n",
       "Drug Regimen                                                             \n",
       "Capomulin             40.675741  41.557809  24.947764  4.994774  0.329346\n",
       "Ceftamin              52.591172  51.776157  39.290177  6.268188  0.469821\n",
       "Infubinol             52.884795  51.820584  43.128684  6.567243  0.492236\n",
       "Ketapril              55.235638  53.698743  68.553577  8.279709  0.603860\n",
       "Naftisol              54.331565  52.509285  66.173479  8.134708  0.596466\n",
       "Placebo               54.033581  52.288934  61.168083  7.821003  0.581331\n",
       "Propriva              52.320930  50.446266  43.852013  6.622085  0.544332\n",
       "Ramicane              40.216745  40.673236  23.486704  4.846308  0.320955\n",
       "Stelasyn              54.233149  52.431737  59.450562  7.710419  0.573111\n",
       "Zoniferol             53.236507  51.818479  48.533355  6.966589  0.516398"
      ]
     },
     "execution_count": 113,
     "metadata": {},
     "output_type": "execute_result"
    }
   ],
   "source": [
    "# Generate a summary statistics table of mean, median, variance, standard deviation, \n",
    "# and SEM of the tumor volume for each regimen\n",
    "Summary_df.head()\n",
    "\n",
    "# Using the aggregation method, produce the same summary statistics in a single line.\n",
    "Summary_aggreg = clean_df.groupby([\"Drug Regimen\"])[[\"Tumor Volume (mm3)\"]].agg ([\"mean\",\"median\",\"var\",\"std\",\"sem\"])\n",
    "Summary_aggreg\n",
    "\n"
   ]
  },
  {
   "cell_type": "code",
   "execution_count": 114,
   "id": "d95546b4",
   "metadata": {},
   "outputs": [],
   "source": [
    "## Bar and Pie Charts\n"
   ]
  },
  {
   "cell_type": "code",
   "execution_count": 115,
   "id": "215e0ced",
   "metadata": {},
   "outputs": [
    {
     "data": {
      "text/plain": [
       "Text(0.5, 1.0, 'Number of mice per treatment')"
      ]
     },
     "execution_count": 115,
     "metadata": {},
     "output_type": "execute_result"
    },
    {
     "data": {
      "image/png": "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\n",
      "text/plain": [
       "<Figure size 432x288 with 1 Axes>"
      ]
     },
     "metadata": {
      "needs_background": "light"
     },
     "output_type": "display_data"
    }
   ],
   "source": [
    "# Generate a bar plot showing the total number of timepoints for all mice tested for each drug regimen using Pandas.\n",
    "mice_plot_count = clean_df [\"Drug Regimen\"].value_counts()\n",
    "\n",
    "plot_pandas = mice_plot_count.plot.bar(color='b',alpha=0.6) \n",
    "\n",
    "\n",
    "plt.xlabel (\"Drug Regimen\")\n",
    "plt.ylabel(\"Number of mice\")\n",
    "plt.title (\"Number of mice per treatment\")\n"
   ]
  },
  {
   "cell_type": "code",
   "execution_count": 116,
   "id": "c18d16ae",
   "metadata": {},
   "outputs": [
    {
     "data": {
      "text/plain": [
       "Text(0.5, 1.0, 'Number of mice per treatment')"
      ]
     },
     "execution_count": 116,
     "metadata": {},
     "output_type": "execute_result"
    },
    {
     "data": {
      "image/png": "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\n",
      "text/plain": [
       "<Figure size 432x288 with 1 Axes>"
      ]
     },
     "metadata": {
      "needs_background": "light"
     },
     "output_type": "display_data"
    }
   ],
   "source": [
    "# Generate a bar plot showing the total number of timepoints for all mice tested for each drug regimen using pyplot.\n",
    "\n",
    "x_axis = mice_plot_count.index.values\n",
    "y_axis = mice_plot_count.values\n",
    "\n",
    "\n",
    "plt.bar(x_axis, y_axis, color='b', alpha=0.6, align='center')\n",
    "\n",
    "plt.xticks(rotation=\"vertical\")\n",
    "\n",
    "\n",
    "plt.xlabel (\"Drug Regimen\")\n",
    "plt.ylabel(\"Number of mice\")\n",
    "plt.title (\"Number of mice per treatment\")"
   ]
  },
  {
   "cell_type": "code",
   "execution_count": 117,
   "id": "7db7d930",
   "metadata": {},
   "outputs": [
    {
     "data": {
      "text/plain": [
       "<matplotlib.axes._subplots.AxesSubplot at 0x130a5eae948>"
      ]
     },
     "execution_count": 117,
     "metadata": {},
     "output_type": "execute_result"
    },
    {
     "data": {
      "image/png": "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\n",
      "text/plain": [
       "<Figure size 432x288 with 1 Axes>"
      ]
     },
     "metadata": {},
     "output_type": "display_data"
    }
   ],
   "source": [
    "# Generate a pie plot showing the distribution of female versus male mice using Pandas\n",
    "gender_data = clean_df[\"Sex\"].value_counts()\n",
    "plt.title (\"Gender dispertion\")\n",
    "gender_data.plot.pie(autopct='%1.1f%%')\n",
    "gender_data.plot.pie()\n",
    "\n"
   ]
  },
  {
   "cell_type": "code",
   "execution_count": 118,
   "id": "14572057",
   "metadata": {},
   "outputs": [
    {
     "data": {
      "image/png": "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\n",
      "text/plain": [
       "<Figure size 432x288 with 1 Axes>"
      ]
     },
     "metadata": {},
     "output_type": "display_data"
    }
   ],
   "source": [
    "# Generate a pie plot showing the distribution of female versus male mice using pyplot\n",
    "labels = [\"Female\", \"Male\"]\n",
    "sizes = [49.0, 51.0]\n",
    "plot = gender_data.plot.pie(y='Total Count', autopct=\"%1.1f%%\")\n",
    "plt.title(\"Gender dispertion\")\n",
    "plt.ylabel(\"Sex\")\n",
    "plt.show()"
   ]
  },
  {
   "cell_type": "code",
   "execution_count": 119,
   "id": "a23a6449",
   "metadata": {},
   "outputs": [],
   "source": [
    "## Quartiles, Outliers and Boxplots\n"
   ]
  },
  {
   "cell_type": "code",
   "execution_count": 120,
   "id": "aff02f9f",
   "metadata": {},
   "outputs": [
    {
     "data": {
      "text/html": [
       "<div>\n",
       "<style scoped>\n",
       "    .dataframe tbody tr th:only-of-type {\n",
       "        vertical-align: middle;\n",
       "    }\n",
       "\n",
       "    .dataframe tbody tr th {\n",
       "        vertical-align: top;\n",
       "    }\n",
       "\n",
       "    .dataframe thead th {\n",
       "        text-align: right;\n",
       "    }\n",
       "</style>\n",
       "<table border=\"1\" class=\"dataframe\">\n",
       "  <thead>\n",
       "    <tr style=\"text-align: right;\">\n",
       "      <th></th>\n",
       "      <th>Mouse ID</th>\n",
       "      <th>Timepoint</th>\n",
       "      <th>Tumor Volume (mm3)</th>\n",
       "      <th>Metastatic Sites</th>\n",
       "      <th>Drug Regimen</th>\n",
       "      <th>Sex</th>\n",
       "      <th>Age_months</th>\n",
       "      <th>Weight (g)</th>\n",
       "    </tr>\n",
       "  </thead>\n",
       "  <tbody>\n",
       "    <tr>\n",
       "      <th>0</th>\n",
       "      <td>b128</td>\n",
       "      <td>45</td>\n",
       "      <td>38.982878</td>\n",
       "      <td>2</td>\n",
       "      <td>Capomulin</td>\n",
       "      <td>Female</td>\n",
       "      <td>9</td>\n",
       "      <td>22</td>\n",
       "    </tr>\n",
       "    <tr>\n",
       "      <th>1</th>\n",
       "      <td>b742</td>\n",
       "      <td>45</td>\n",
       "      <td>38.939633</td>\n",
       "      <td>0</td>\n",
       "      <td>Capomulin</td>\n",
       "      <td>Male</td>\n",
       "      <td>7</td>\n",
       "      <td>21</td>\n",
       "    </tr>\n",
       "    <tr>\n",
       "      <th>2</th>\n",
       "      <td>f966</td>\n",
       "      <td>20</td>\n",
       "      <td>30.485985</td>\n",
       "      <td>0</td>\n",
       "      <td>Capomulin</td>\n",
       "      <td>Male</td>\n",
       "      <td>16</td>\n",
       "      <td>17</td>\n",
       "    </tr>\n",
       "    <tr>\n",
       "      <th>3</th>\n",
       "      <td>g288</td>\n",
       "      <td>45</td>\n",
       "      <td>37.074024</td>\n",
       "      <td>1</td>\n",
       "      <td>Capomulin</td>\n",
       "      <td>Male</td>\n",
       "      <td>3</td>\n",
       "      <td>19</td>\n",
       "    </tr>\n",
       "    <tr>\n",
       "      <th>4</th>\n",
       "      <td>g316</td>\n",
       "      <td>45</td>\n",
       "      <td>40.159220</td>\n",
       "      <td>2</td>\n",
       "      <td>Capomulin</td>\n",
       "      <td>Female</td>\n",
       "      <td>22</td>\n",
       "      <td>22</td>\n",
       "    </tr>\n",
       "  </tbody>\n",
       "</table>\n",
       "</div>"
      ],
      "text/plain": [
       "  Mouse ID  Timepoint  Tumor Volume (mm3)  Metastatic Sites Drug Regimen  \\\n",
       "0     b128         45           38.982878                 2    Capomulin   \n",
       "1     b742         45           38.939633                 0    Capomulin   \n",
       "2     f966         20           30.485985                 0    Capomulin   \n",
       "3     g288         45           37.074024                 1    Capomulin   \n",
       "4     g316         45           40.159220                 2    Capomulin   \n",
       "\n",
       "      Sex  Age_months  Weight (g)  \n",
       "0  Female           9          22  \n",
       "1    Male           7          21  \n",
       "2    Male          16          17  \n",
       "3    Male           3          19  \n",
       "4  Female          22          22  "
      ]
     },
     "execution_count": 120,
     "metadata": {},
     "output_type": "execute_result"
    }
   ],
   "source": [
    "# Calculate the final tumor volume of each mouse across four of the treatment regimens:  \n",
    "# Capomulin, Ramicane, Infubinol, and Ceftamin\n",
    "Capomulin_df = clean_df.loc[clean_df[\"Drug Regimen\"] == \"Capomulin\",:]\n",
    "Ramicane_df = clean_df.loc[clean_df[\"Drug Regimen\"] == \"Ramicane\", :]\n",
    "Infubinol_df = clean_df.loc[clean_df[\"Drug Regimen\"] == \"Infubinol\", :]\n",
    "Ceftamin_df = clean_df.loc[clean_df[\"Drug Regimen\"] == \"Ceftamin\", :]\n",
    "\n",
    "# Start by getting the last (greatest) timepoint for each mouse\n",
    "Capomulin_last = Capomulin_df.groupby('Mouse ID').max()['Timepoint']\n",
    "Capomulin_vol = pd.DataFrame(Capomulin_last)\n",
    "\n",
    "\n",
    "# Merge this group df with the original DataFrame to get the tumor volume at the last timepoint\n",
    "Capomulin_merge = pd.merge(Capomulin_vol, clean_df, on=(\"Mouse ID\",\"Timepoint\"),how=\"left\")\n",
    "Capomulin_merge.head()"
   ]
  },
  {
   "cell_type": "code",
   "execution_count": 121,
   "id": "f08e00a1",
   "metadata": {},
   "outputs": [
    {
     "name": "stdout",
     "output_type": "stream",
     "text": [
      "Capomulin\n",
      "Ramicane\n",
      "Infubinol\n",
      "Ceftamin\n"
     ]
    }
   ],
   "source": [
    "# Put treatments into a list for for loop (and later for plot labels)\n",
    "# Create empty list to fill with tumor vol data (for plotting)\n",
    "# Calculate the IQR and quantitatively determine if there are any potential outliers. \n",
    "# Locate the rows which contain mice on each drug and get the tumor volumes\n",
    "    # add subset \n",
    "     # Determine outliers using upper and lower bounds\n",
    "    \n",
    "drug_list = [\"Capomulin\", \"Ramicane\", \"Infubinol\", \"Ceftamin\"]\n",
    "drugs = mouse_data_complete[mouse_data_complete[\"Drug Regimen\"].isin(drug_list)]\n",
    "for drug in drug_list:\n",
    "    print(drug)\n",
    "\n"
   ]
  },
  {
   "cell_type": "code",
   "execution_count": 122,
   "id": "626199b3",
   "metadata": {},
   "outputs": [
    {
     "name": "stdout",
     "output_type": "stream",
     "text": [
      "------------------------------------------------------------\n",
      "The lower quartile of Capomulin treatments is: 32.38\n",
      "The upper quartile of Capomulin treatments is: 40.16\n",
      "The interquartile range of Capomulin treatments is: 7.78\n",
      "Values below 20.71 could be Capomulin outliers.\n",
      "Values above 51.83 could be Capomulin outliers.\n",
      "------------------------------------------------------------\n",
      "The lower quartile of Ramicane treatments is: 31.56\n",
      "The upper quartile of Ramicane treatments is: 40.66\n",
      "The interquartile range of Ramicane treatments is: 9.1\n",
      "Values below 17.91 could be Ramicane outliers.\n",
      "Values above 54.31 could be Ramicane outliers.\n",
      "------------------------------------------------------------\n",
      "The lower quartile of Infubinol treatments is: 54.05\n",
      "The upper quartile of Infubinol treatments is: 65.53\n",
      "The interquartile range of Infubinol treatments is: 11.48\n",
      "Values below 36.83 could be Infubinol outliers.\n",
      "Values above 82.75 could be Infubinol outliers.\n",
      "------------------------------------------------------------\n",
      "The lower quartile of Ceftamin treatments is: 48.72\n",
      "The upper quartile of Ceftamin treatments is: 64.3\n",
      "The interquartile range of Ceftamin treatments is: 15.58\n",
      "Values below 25.35 could be Ceftamin outliers.\n",
      "Values above 87.67 could be Ceftamin outliers.\n",
      "------------------------------------------------------------\n"
     ]
    }
   ],
   "source": [
    "# Create empty list to fill with tumor vol data (for plotting)\n",
    "# Calculate the IQR and quantitatively determine if there are any potential outliers. \n",
    "# Locate the rows which contain mice on each drug and get the tumor volumes\n",
    "    # add subset \n",
    "     # Determine outliers using upper and lower bounds\n",
    "last_timepoint = drugs.groupby([\"Drug Regimen\", \"Mouse ID\"]).agg(tumor_size=(\"Tumor Volume (mm3)\", lambda x: x.iloc[-1]))\n",
    "last_timepoint = last_timepoint.stack(level=0).unstack(level=0)\n",
    "\n",
    "treatment = 0\n",
    "for drug in drug_list:\n",
    "    quartiles = last_timepoint[drug].quantile([.25,.5,.75]).round(2)\n",
    "    lowerq = quartiles[0.25].round(2)\n",
    "    upperq = quartiles[0.75].round(2)\n",
    "    iqr = round(upperq-lowerq,2)\n",
    "    lower_bound = round(lowerq - (1.5*iqr),2)\n",
    "    upper_bound = round(upperq + (1.5*iqr),2)\n",
    "\n",
    "\n",
    "    if treatment == 0:\n",
    "        print(f\"------------------------------------------------------------\")\n",
    "    print(f\"The lower quartile of {drug} treatments is: {lowerq}\")\n",
    "    print(f\"The upper quartile of {drug} treatments is: {upperq}\")\n",
    "    print(f\"The interquartile range of {drug} treatments is: {iqr}\")\n",
    "    print(f\"Values below {lower_bound} could be {drug} outliers.\")\n",
    "    print(f\"Values above {upper_bound} could be {drug} outliers.\")\n",
    "    print(f\"------------------------------------------------------------\")\n",
    "    treatment+=1"
   ]
  },
  {
   "cell_type": "code",
   "execution_count": 123,
   "id": "8a33edf0",
   "metadata": {},
   "outputs": [],
   "source": [
    "# Generate a box plot that shows the distrubution of the tumor volume for each treatment group.\n",
    "boxplot_list = []\n",
    "for drug in drug_list:\n",
    "    boxplot_list.append(list(last_timepoint[drug].dropna()))"
   ]
  },
  {
   "cell_type": "code",
   "execution_count": 124,
   "id": "9d91c622",
   "metadata": {},
   "outputs": [
    {
     "data": {
      "image/png": "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\n",
      "text/plain": [
       "<Figure size 432x288 with 1 Axes>"
      ]
     },
     "metadata": {
      "needs_background": "light"
     },
     "output_type": "display_data"
    }
   ],
   "source": [
    "fig = plt.figure()\n",
    "plt.xticks( [1,2,3,4], drug_list, rotation=0)\n",
    "plt.ylabel(\"Final Tumor Volume (mm3)\")\n",
    "plt.boxplot(boxplot_list)\n",
    "plt.show()"
   ]
  },
  {
   "cell_type": "code",
   "execution_count": 125,
   "id": "30022298",
   "metadata": {},
   "outputs": [],
   "source": [
    "## Line and Scatter Plots"
   ]
  },
  {
   "cell_type": "code",
   "execution_count": 126,
   "id": "e897b9fd",
   "metadata": {},
   "outputs": [
    {
     "data": {
      "text/plain": [
       "Text(0, 0.5, 'Tumor Volume (mm3)')"
      ]
     },
     "execution_count": 126,
     "metadata": {},
     "output_type": "execute_result"
    },
    {
     "data": {
      "image/png": "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\n",
      "text/plain": [
       "<Figure size 432x288 with 1 Axes>"
      ]
     },
     "metadata": {
      "needs_background": "light"
     },
     "output_type": "display_data"
    }
   ],
   "source": [
    "# Generate a line plot of tumor volume vs. time point for a mouse treated with Capomulin\n",
    "forline_df = Capomulin_df.loc[Capomulin_df[\"Mouse ID\"] == \"l509\",:]\n",
    "forline_df.head()\n",
    "x_axis = forline_df[\"Timepoint\"]\n",
    "tumsiz = forline_df[\"Tumor Volume (mm3)\"]\n",
    "\n",
    "fig1, ax1 = plt.subplots()\n",
    "plt.title('Capomulin treatmeant of mouse l509')\n",
    "plt.plot(x_axis, tumsiz,linewidth=2, markersize=15,marker=\"o\",color=\"blue\", label=\"Fahreneit\")\n",
    "plt.xlabel('Timepoint (Days)')\n",
    "plt.ylabel('Tumor Volume (mm3)')"
   ]
  },
  {
   "cell_type": "code",
   "execution_count": 100,
   "id": "210c756a",
   "metadata": {},
   "outputs": [
    {
     "data": {
      "text/plain": [
       "Text(0, 0.5, 'Averag Tumor Volume (mm3)')"
      ]
     },
     "execution_count": 100,
     "metadata": {},
     "output_type": "execute_result"
    },
    {
     "data": {
      "image/png": "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\n",
      "text/plain": [
       "<Figure size 432x288 with 1 Axes>"
      ]
     },
     "metadata": {
      "needs_background": "light"
     },
     "output_type": "display_data"
    }
   ],
   "source": [
    "# Generate a scatter plot of average tumor volume vs. mouse weight for the Capomulin regimen\n",
    "fig1, ax1 = plt.subplots()\n",
    "avg_capm_vol =Capomulin_df.groupby(['Mouse ID']).mean()\n",
    "\n",
    "marker_size=16\n",
    "plt.scatter(avg_capm_vol['Weight (g)'],avg_capm_vol['Tumor Volume (mm3)'], color=\"purple\")\n",
    "plt.xlabel('Weight (g)',fontsize =14)\n",
    "plt.ylabel('Averag Tumor Volume (mm3)')"
   ]
  },
  {
   "cell_type": "code",
   "execution_count": 101,
   "id": "ef82ba69",
   "metadata": {},
   "outputs": [],
   "source": [
    "## Correlation and Regression"
   ]
  },
  {
   "cell_type": "code",
   "execution_count": 102,
   "id": "0c037cdf",
   "metadata": {},
   "outputs": [
    {
     "name": "stdout",
     "output_type": "stream",
     "text": [
      "The correlation between mouse weight and the average tumor volume is 0.84\n"
     ]
    }
   ],
   "source": [
    "# Calculate the correlation coefficient and linear regression model \n",
    "correlation = st.pearsonr(avg_capm_vol['Weight (g)'],avg_capm_vol['Tumor Volume (mm3)'])\n",
    "print(f\"The correlation between mouse weight and the average tumor volume is {round(correlation[0],2)}\")\n",
    "\n",
    "# for mouse weight and average tumor volume for the Capomulin regimen\n"
   ]
  },
  {
   "cell_type": "code",
   "execution_count": 128,
   "id": "b40c1e1c",
   "metadata": {},
   "outputs": [
    {
     "ename": "TypeError",
     "evalue": "'module' object is not callable",
     "output_type": "error",
     "traceback": [
      "\u001b[1;31m---------------------------------------------------------------------------\u001b[0m",
      "\u001b[1;31mTypeError\u001b[0m                                 Traceback (most recent call last)",
      "\u001b[1;32m~\\AppData\\Local\\Temp\\ipykernel_24852\\171800183.py\u001b[0m in \u001b[0;36m<module>\u001b[1;34m\u001b[0m\n\u001b[1;32m----> 1\u001b[1;33m \u001b[1;33m(\u001b[0m\u001b[0mslope\u001b[0m\u001b[1;33m,\u001b[0m \u001b[0mintercept\u001b[0m\u001b[1;33m,\u001b[0m\u001b[0mrvalue\u001b[0m\u001b[1;33m,\u001b[0m \u001b[0mpvalue\u001b[0m\u001b[1;33m,\u001b[0m \u001b[0mstderr\u001b[0m\u001b[1;33m)\u001b[0m\u001b[1;33m=\u001b[0m \u001b[0mstats\u001b[0m\u001b[1;33m(\u001b[0m\u001b[0mavg_capm_vol\u001b[0m\u001b[1;33m[\u001b[0m\u001b[1;34m\"Weight (g)\"\u001b[0m\u001b[1;33m]\u001b[0m\u001b[1;33m,\u001b[0m\u001b[0mavg_capm_vol\u001b[0m\u001b[1;33m[\u001b[0m\u001b[1;34m\"Tumor Volume (mm3)\"\u001b[0m\u001b[1;33m]\u001b[0m\u001b[1;33m)\u001b[0m\u001b[1;33m\u001b[0m\u001b[1;33m\u001b[0m\u001b[0m\n\u001b[0m\u001b[0;32m      2\u001b[0m \u001b[0mregress_values\u001b[0m\u001b[1;33m=\u001b[0m\u001b[0mavg_capm_vol\u001b[0m\u001b[1;33m[\u001b[0m\u001b[1;34m\"Weight (g)\"\u001b[0m\u001b[1;33m]\u001b[0m\u001b[1;33m*\u001b[0m \u001b[0mslope\u001b[0m \u001b[1;33m+\u001b[0m \u001b[0mintercept\u001b[0m\u001b[1;33m\u001b[0m\u001b[1;33m\u001b[0m\u001b[0m\n\u001b[0;32m      3\u001b[0m \u001b[0mline_eq\u001b[0m\u001b[1;33m=\u001b[0m \u001b[1;34mf\"y = {round(slope, 2)} x + {round(intercept, 2)}\"\u001b[0m\u001b[1;33m\u001b[0m\u001b[1;33m\u001b[0m\u001b[0m\n\u001b[0;32m      4\u001b[0m \u001b[1;33m\u001b[0m\u001b[0m\n\u001b[0;32m      5\u001b[0m \u001b[0mplt\u001b[0m\u001b[1;33m.\u001b[0m\u001b[0mscatter\u001b[0m\u001b[1;33m(\u001b[0m\u001b[0mavg_capm_vol\u001b[0m\u001b[1;33m[\u001b[0m\u001b[1;34m\"Weight (g)\"\u001b[0m\u001b[1;33m]\u001b[0m\u001b[1;33m,\u001b[0m\u001b[0mavg_capm_vol\u001b[0m\u001b[1;33m[\u001b[0m\u001b[1;34m\"Tumor Volume (mm3)\"\u001b[0m\u001b[1;33m]\u001b[0m\u001b[1;33m,\u001b[0m\u001b[0mcolor\u001b[0m\u001b[1;33m=\u001b[0m\u001b[1;34m'b'\u001b[0m\u001b[1;33m)\u001b[0m\u001b[1;33m\u001b[0m\u001b[1;33m\u001b[0m\u001b[0m\n",
      "\u001b[1;31mTypeError\u001b[0m: 'module' object is not callable"
     ]
    }
   ],
   "source": [
    "(slope, intercept,rvalue, pvalue, stderr)= stats(avg_capm_vol[\"Weight (g)\"],avg_capm_vol[\"Tumor Volume (mm3)\"])\n",
    "regress_values=avg_capm_vol[\"Weight (g)\"]* slope + intercept\n",
    "line_eq= f\"y = {round(slope, 2)} x + {round(intercept, 2)}\"\n",
    "\n",
    "plt.scatter(avg_capm_vol[\"Weight (g)\"],avg_capm_vol[\"Tumor Volume (mm3)\"],color='b')\n",
    "plt.plot(avg_capm_vol[\"Weight (g)\"], regress_values, color='red')\n",
    "plt.annotate(line_eq,(20,36), fontsize=14)\n",
    "plt.xlabel(\"Weight (g)\")\n",
    "plt.ylabel(\"Tumor Volume (mm3)\")\n",
    "plt.title(\"Weight vs Tumor Volume for Capomulin\")\n",
    "print(f\"The r-squared is: {round(rvalue**2,3)}\")\n",
    "plt.show()"
   ]
  },
  {
   "cell_type": "code",
   "execution_count": null,
   "id": "68032f16",
   "metadata": {},
   "outputs": [],
   "source": []
  },
  {
   "cell_type": "code",
   "execution_count": null,
   "id": "121c9388",
   "metadata": {},
   "outputs": [],
   "source": []
  },
  {
   "cell_type": "code",
   "execution_count": null,
   "id": "2b3e59b1",
   "metadata": {},
   "outputs": [],
   "source": []
  }
 ],
 "metadata": {
  "kernelspec": {
   "display_name": "Python [conda env:PythonData]",
   "language": "python",
   "name": "conda-env-PythonData-py"
  },
  "language_info": {
   "codemirror_mode": {
    "name": "ipython",
    "version": 3
   },
   "file_extension": ".py",
   "mimetype": "text/x-python",
   "name": "python",
   "nbconvert_exporter": "python",
   "pygments_lexer": "ipython3",
   "version": "3.7.7"
  }
 },
 "nbformat": 4,
 "nbformat_minor": 5
}
